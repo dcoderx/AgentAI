{
 "cells": [
  {
   "cell_type": "markdown",
   "id": "5dc033cc-283c-4bca-8448-e074ef1048ba",
   "metadata": {},
   "source": [
    "# Simple Agentic AI Implementation\n",
    "\n",
    "This notebook demonstrates a lightweight implementation of an agentic AI system that follows the core principles of:\n",
    "- Goal setting\n",
    "- Planning\n",
    "- Execution\n",
    "- Status tracking\n",
    "\n",
    "The agent can handle different types of tasks by creating appropriate plans based on the goal's context."
   ]
  },
  {
   "cell_type": "markdown",
   "id": "a0a09371-75c9-4f8f-9e98-d51db4c9f058",
   "metadata": {},
   "source": [
    "## Agent Implementation\n",
    "\n",
    "The `SimpleAgent` class below implements the core functionality of the agentic system:\n",
    "- Setting goals\n",
    "- Creating plans based on goal type\n",
    "- Executing steps sequentially\n",
    "- Tracking progress"
   ]
  },
  {
   "cell_type": "code",
   "execution_count": 2,
   "id": "3566ad19-f0b0-4d3a-8bd1-5c84829c1329",
   "metadata": {},
   "outputs": [],
   "source": [
    "class SimpleAgent:\n",
    "    def __init__(self):\n",
    "        self.goal = None\n",
    "        self.plan = []\n",
    "        self.current_step = 0\n",
    "        self.completed = False\n",
    "        self.history = []  # Added history for demonstration purposes\n",
    "        \n",
    "    def set_goal(self, goal_text):\n",
    "        \"\"\"Set the agent's goal\"\"\"\n",
    "        self.goal = goal_text\n",
    "        self.plan = []\n",
    "        self.current_step = 0\n",
    "        self.completed = False\n",
    "        self.history = [f\"Goal set: {goal_text}\"]\n",
    "        return f\"Goal set: {goal_text}\"\n",
    "    \n",
    "    def create_plan(self):\n",
    "        \"\"\"Create a simple 3-step plan based on the goal\"\"\"\n",
    "        if not self.goal:\n",
    "            return \"Please set a goal first.\"\n",
    "        \n",
    "        # Simple keyword-based planning\n",
    "        if any(word in self.goal.lower() for word in [\"research\", \"find\", \"information\", \"learn\"]):\n",
    "            self.plan = [\n",
    "                \"Search for relevant information\",\n",
    "                \"Analyze and organize findings\",\n",
    "                \"Prepare summary of results\"\n",
    "            ]\n",
    "        elif any(word in self.goal.lower() for word in [\"schedule\", \"plan\", \"organize\", \"task\"]):\n",
    "            self.plan = [\n",
    "                \"List all tasks and deadlines\",\n",
    "                \"Prioritize by importance\",\n",
    "                \"Create a timeline\"\n",
    "            ]\n",
    "        elif any(word in self.goal.lower() for word in [\"write\", \"create\", \"draft\", \"compose\"]):\n",
    "            self.plan = [\n",
    "                \"Outline the main points\",\n",
    "                \"Develop the content structure\",\n",
    "                \"Write the complete text\"\n",
    "            ]\n",
    "        else:\n",
    "            # Default plan for any other type of goal\n",
    "            self.plan = [\n",
    "                \"Understand the request\",\n",
    "                \"Process available information\",\n",
    "                \"Generate appropriate response\"\n",
    "            ]\n",
    "        \n",
    "        plan_text = \"Plan created:\\n\" + \"\\n\".join([f\"{i+1}. {step}\" for i, step in enumerate(self.plan)])\n",
    "        self.history.append(plan_text)\n",
    "        return plan_text\n",
    "    \n",
    "    def execute_step(self):\n",
    "        \"\"\"Execute the current step in the plan\"\"\"\n",
    "        if not self.plan:\n",
    "            return \"No plan exists. Please create a plan first.\"\n",
    "            \n",
    "        if self.completed:\n",
    "            return \"All steps have been completed.\"\n",
    "            \n",
    "        current = self.plan[self.current_step]\n",
    "        \n",
    "        # Simulate different outputs based on step type\n",
    "        if \"search\" in current.lower() or \"list\" in current.lower() or \"outline\" in current.lower() or \"understand\" in current.lower():\n",
    "            result = f\"Executed: {current} - Initial information gathered\"\n",
    "        elif \"analyze\" in current.lower() or \"prioritize\" in current.lower() or \"develop\" in current.lower() or \"process\" in current.lower():\n",
    "            result = f\"Executed: {current} - Information processed and structured\"\n",
    "        else:\n",
    "            result = f\"Executed: {current} - Final output prepared\"\n",
    "        \n",
    "        self.current_step += 1\n",
    "        if self.current_step >= len(self.plan):\n",
    "            self.completed = True\n",
    "            final_result = f\"{result}\\nAll steps completed!\"\n",
    "            self.history.append(final_result)\n",
    "            return final_result\n",
    "        \n",
    "        next_step = f\"{result}\\nNext step: {self.plan[self.current_step]}\"\n",
    "        self.history.append(next_step)\n",
    "        return next_step\n",
    "    \n",
    "    def get_status(self):\n",
    "        \"\"\"Get the current status of the agent\"\"\"\n",
    "        if not self.goal:\n",
    "            return \"No goal set.\"\n",
    "        if not self.plan:\n",
    "            return f\"Goal: {self.goal}\\nNo plan created yet.\"\n",
    "        if self.completed:\n",
    "            return f\"Goal: {self.goal}\\nStatus: Completed all {len(self.plan)} steps.\"\n",
    "        \n",
    "        progress = f\"{self.current_step}/{len(self.plan)} steps completed\"\n",
    "        next_step = f\"Next: {self.plan[self.current_step]}\" if self.current_step < len(self.plan) else \"All done!\"\n",
    "        return f\"Goal: {self.goal}\\nProgress: {progress}\\n{next_step}\"\n",
    "    \n",
    "    def get_history(self):\n",
    "        \"\"\"Get the full history of agent actions\"\"\"\n",
    "        return \"\\n\\n\".join(self.history)"
   ]
  },
  {
   "cell_type": "markdown",
   "id": "62a63d96-eccf-4fe6-8698-c48dff302e26",
   "metadata": {},
   "source": [
    "## Agent Demonstration\n",
    "\n",
    "Let's see our agent in action with different types of goals:"
   ]
  },
  {
   "cell_type": "code",
   "execution_count": 3,
   "id": "28de433c-1011-494d-bfce-9195ab2ff3a3",
   "metadata": {},
   "outputs": [
    {
     "name": "stdout",
     "output_type": "stream",
     "text": [
      "=== RESEARCH TASK EXAMPLE ===\n",
      "Goal set: Research the latest trends in artificial intelligence\n",
      "\n",
      "Plan created:\n",
      "1. Search for relevant information\n",
      "2. Analyze and organize findings\n",
      "3. Prepare summary of results\n",
      "\n",
      "Executed: Search for relevant information - Initial information gathered\n",
      "Next step: Analyze and organize findings\n",
      "\n",
      "Executed: Analyze and organize findings - Information processed and structured\n",
      "Next step: Prepare summary of results\n",
      "\n",
      "Executed: Prepare summary of results - Final output prepared\n",
      "All steps completed!\n",
      "\n",
      "Goal: Research the latest trends in artificial intelligence\n",
      "Status: Completed all 3 steps.\n"
     ]
    }
   ],
   "source": [
    "# Example 1: Research task\n",
    "print(\"=== RESEARCH TASK EXAMPLE ===\")\n",
    "agent = SimpleAgent()\n",
    "print(agent.set_goal(\"Research the latest trends in artificial intelligence\"))\n",
    "print(\"\\n\" + agent.create_plan())\n",
    "print(\"\\n\" + agent.execute_step())\n",
    "print(\"\\n\" + agent.execute_step())\n",
    "print(\"\\n\" + agent.execute_step())\n",
    "print(\"\\n\" + agent.get_status())"
   ]
  },
  {
   "cell_type": "code",
   "execution_count": 4,
   "id": "3eee4618-5201-40a9-925a-b61c0e273801",
   "metadata": {},
   "outputs": [
    {
     "name": "stdout",
     "output_type": "stream",
     "text": [
      "=== SCHEDULING TASK EXAMPLE ===\n",
      "Goal set: Help me organize my project tasks for the week\n",
      "\n",
      "Plan created:\n",
      "1. List all tasks and deadlines\n",
      "2. Prioritize by importance\n",
      "3. Create a timeline\n",
      "\n",
      "Executed: List all tasks and deadlines - Initial information gathered\n",
      "Next step: Prioritize by importance\n",
      "\n",
      "Executed: Prioritize by importance - Information processed and structured\n",
      "Next step: Create a timeline\n",
      "\n",
      "Executed: Create a timeline - Final output prepared\n",
      "All steps completed!\n",
      "\n",
      "Goal: Help me organize my project tasks for the week\n",
      "Status: Completed all 3 steps.\n"
     ]
    }
   ],
   "source": [
    "# Example 2: Scheduling task\n",
    "print(\"=== SCHEDULING TASK EXAMPLE ===\")\n",
    "agent = SimpleAgent()\n",
    "print(agent.set_goal(\"Help me organize my project tasks for the week\"))\n",
    "print(\"\\n\" + agent.create_plan())\n",
    "print(\"\\n\" + agent.execute_step())\n",
    "print(\"\\n\" + agent.execute_step())\n",
    "print(\"\\n\" + agent.execute_step())\n",
    "print(\"\\n\" + agent.get_status())"
   ]
  },
  {
   "cell_type": "code",
   "execution_count": 5,
   "id": "b122d5c9-a486-497c-8e90-86d79bd7739e",
   "metadata": {},
   "outputs": [
    {
     "name": "stdout",
     "output_type": "stream",
     "text": [
      "=== WRITING TASK EXAMPLE ===\n",
      "Goal set: Write a short introduction for my portfolio\n",
      "\n",
      "Plan created:\n",
      "1. Outline the main points\n",
      "2. Develop the content structure\n",
      "3. Write the complete text\n",
      "\n",
      "Executed: Outline the main points - Initial information gathered\n",
      "Next step: Develop the content structure\n",
      "\n",
      "Executed: Develop the content structure - Information processed and structured\n",
      "Next step: Write the complete text\n",
      "\n",
      "Executed: Write the complete text - Final output prepared\n",
      "All steps completed!\n",
      "\n",
      "Goal: Write a short introduction for my portfolio\n",
      "Status: Completed all 3 steps.\n"
     ]
    }
   ],
   "source": [
    "# Example 3: Writing task\n",
    "print(\"=== WRITING TASK EXAMPLE ===\")\n",
    "agent = SimpleAgent()\n",
    "print(agent.set_goal(\"Write a short introduction for my portfolio\"))\n",
    "print(\"\\n\" + agent.create_plan())\n",
    "print(\"\\n\" + agent.execute_step())\n",
    "print(\"\\n\" + agent.execute_step())\n",
    "print(\"\\n\" + agent.execute_step())\n",
    "print(\"\\n\" + agent.get_status())"
   ]
  },
  {
   "cell_type": "markdown",
   "id": "1cb62b14-6a88-473c-b10a-e3b21828ba08",
   "metadata": {},
   "source": [
    "## Interactive Demo\n",
    "\n",
    "The following cell provides an interactive interface to test the agent with your own goals:"
   ]
  },
  {
   "cell_type": "code",
   "execution_count": 13,
   "id": "570224a9-4036-412e-9ceb-781a9cdfa5d5",
   "metadata": {},
   "outputs": [
    {
     "data": {
      "text/html": [
       "<h1>Simple Agentic AI Demonstration</h1>"
      ],
      "text/plain": [
       "<IPython.core.display.HTML object>"
      ]
     },
     "metadata": {},
     "output_type": "display_data"
    },
    {
     "data": {
      "text/html": [
       "<p>This notebook demonstrates a lightweight agentic AI that can handle different types of goals.</p>"
      ],
      "text/plain": [
       "<IPython.core.display.HTML object>"
      ]
     },
     "metadata": {},
     "output_type": "display_data"
    },
    {
     "data": {
      "text/html": [
       "<h2>Example 1: Research Task</h2>"
      ],
      "text/plain": [
       "<IPython.core.display.HTML object>"
      ]
     },
     "metadata": {},
     "output_type": "display_data"
    },
    {
     "name": "stdout",
     "output_type": "stream",
     "text": [
      "🎯 GOAL: \"Research the latest trends in artificial intelligence\"\n",
      "--------------------------------------------------------------------------------\n",
      "STEP 1: Setting Goal\n",
      "  Goal set: Research the latest trends in artificial intelligence\n",
      "\n",
      "STEP 2: Creating Plan\n",
      "  Plan created:\n",
      "1. Search for relevant information\n",
      "2. Analyze and organize findings\n",
      "3. Prepare summary of results\n",
      "\n",
      "STEP 3: Executing Plan\n",
      "  Step 1: Executed: Search for relevant information - Initial information gathered\n",
      "Next step: Analyze and organize findings\n",
      "\n",
      "  Step 2: Executed: Analyze and organize findings - Information processed and structured\n",
      "Next step: Prepare summary of results\n",
      "\n",
      "  Step 3: Executed: Prepare summary of results - Final output prepared\n",
      "All steps completed!\n",
      "\n",
      "STEP 4: Final Status\n",
      "  Goal: Research the latest trends in artificial intelligence\n",
      "Status: Completed all 3 steps.\n",
      "\n",
      "📊 EXECUTION SUMMARY:\n"
     ]
    },
    {
     "data": {
      "text/html": [
       "<div>\n",
       "<style scoped>\n",
       "    .dataframe tbody tr th:only-of-type {\n",
       "        vertical-align: middle;\n",
       "    }\n",
       "\n",
       "    .dataframe tbody tr th {\n",
       "        vertical-align: top;\n",
       "    }\n",
       "\n",
       "    .dataframe thead th {\n",
       "        text-align: right;\n",
       "    }\n",
       "</style>\n",
       "<table border=\"1\" class=\"dataframe\">\n",
       "  <thead>\n",
       "    <tr style=\"text-align: right;\">\n",
       "      <th></th>\n",
       "      <th>Step</th>\n",
       "      <th>Plan</th>\n",
       "      <th>Result</th>\n",
       "    </tr>\n",
       "  </thead>\n",
       "  <tbody>\n",
       "    <tr>\n",
       "      <th>0</th>\n",
       "      <td>1</td>\n",
       "      <td>Search for relevant information</td>\n",
       "      <td>Executed: Search for relevant information - In...</td>\n",
       "    </tr>\n",
       "    <tr>\n",
       "      <th>1</th>\n",
       "      <td>2</td>\n",
       "      <td>Analyze and organize findings</td>\n",
       "      <td>Executed: Analyze and organize findings - Info...</td>\n",
       "    </tr>\n",
       "    <tr>\n",
       "      <th>2</th>\n",
       "      <td>3</td>\n",
       "      <td>Prepare summary of results</td>\n",
       "      <td>Executed: Prepare summary of results - Final o...</td>\n",
       "    </tr>\n",
       "  </tbody>\n",
       "</table>\n",
       "</div>"
      ],
      "text/plain": [
       "   Step                             Plan  \\\n",
       "0     1  Search for relevant information   \n",
       "1     2    Analyze and organize findings   \n",
       "2     3       Prepare summary of results   \n",
       "\n",
       "                                              Result  \n",
       "0  Executed: Search for relevant information - In...  \n",
       "1  Executed: Analyze and organize findings - Info...  \n",
       "2  Executed: Prepare summary of results - Final o...  "
      ]
     },
     "metadata": {},
     "output_type": "display_data"
    },
    {
     "name": "stdout",
     "output_type": "stream",
     "text": [
      "--------------------------------------------------------------------------------\n",
      "\n"
     ]
    },
    {
     "data": {
      "text/html": [
       "<h2>Example 2: Scheduling Task</h2>"
      ],
      "text/plain": [
       "<IPython.core.display.HTML object>"
      ]
     },
     "metadata": {},
     "output_type": "display_data"
    },
    {
     "name": "stdout",
     "output_type": "stream",
     "text": [
      "🎯 GOAL: \"Help me organize my project tasks for the week\"\n",
      "--------------------------------------------------------------------------------\n",
      "STEP 1: Setting Goal\n",
      "  Goal set: Help me organize my project tasks for the week\n",
      "\n",
      "STEP 2: Creating Plan\n",
      "  Plan created:\n",
      "1. List all tasks and deadlines\n",
      "2. Prioritize by importance\n",
      "3. Create a timeline\n",
      "\n",
      "STEP 3: Executing Plan\n",
      "  Step 1: Executed: List all tasks and deadlines - Initial information gathered\n",
      "Next step: Prioritize by importance\n",
      "\n",
      "  Step 2: Executed: Prioritize by importance - Information processed and structured\n",
      "Next step: Create a timeline\n",
      "\n",
      "  Step 3: Executed: Create a timeline - Final output prepared\n",
      "All steps completed!\n",
      "\n",
      "STEP 4: Final Status\n",
      "  Goal: Help me organize my project tasks for the week\n",
      "Status: Completed all 3 steps.\n",
      "\n",
      "📊 EXECUTION SUMMARY:\n"
     ]
    },
    {
     "data": {
      "text/html": [
       "<div>\n",
       "<style scoped>\n",
       "    .dataframe tbody tr th:only-of-type {\n",
       "        vertical-align: middle;\n",
       "    }\n",
       "\n",
       "    .dataframe tbody tr th {\n",
       "        vertical-align: top;\n",
       "    }\n",
       "\n",
       "    .dataframe thead th {\n",
       "        text-align: right;\n",
       "    }\n",
       "</style>\n",
       "<table border=\"1\" class=\"dataframe\">\n",
       "  <thead>\n",
       "    <tr style=\"text-align: right;\">\n",
       "      <th></th>\n",
       "      <th>Step</th>\n",
       "      <th>Plan</th>\n",
       "      <th>Result</th>\n",
       "    </tr>\n",
       "  </thead>\n",
       "  <tbody>\n",
       "    <tr>\n",
       "      <th>0</th>\n",
       "      <td>1</td>\n",
       "      <td>List all tasks and deadlines</td>\n",
       "      <td>Executed: List all tasks and deadlines - Initi...</td>\n",
       "    </tr>\n",
       "    <tr>\n",
       "      <th>1</th>\n",
       "      <td>2</td>\n",
       "      <td>Prioritize by importance</td>\n",
       "      <td>Executed: Prioritize by importance - Informati...</td>\n",
       "    </tr>\n",
       "    <tr>\n",
       "      <th>2</th>\n",
       "      <td>3</td>\n",
       "      <td>Create a timeline</td>\n",
       "      <td>Executed: Create a timeline - Final output pre...</td>\n",
       "    </tr>\n",
       "  </tbody>\n",
       "</table>\n",
       "</div>"
      ],
      "text/plain": [
       "   Step                          Plan  \\\n",
       "0     1  List all tasks and deadlines   \n",
       "1     2      Prioritize by importance   \n",
       "2     3             Create a timeline   \n",
       "\n",
       "                                              Result  \n",
       "0  Executed: List all tasks and deadlines - Initi...  \n",
       "1  Executed: Prioritize by importance - Informati...  \n",
       "2  Executed: Create a timeline - Final output pre...  "
      ]
     },
     "metadata": {},
     "output_type": "display_data"
    },
    {
     "name": "stdout",
     "output_type": "stream",
     "text": [
      "--------------------------------------------------------------------------------\n",
      "\n"
     ]
    },
    {
     "data": {
      "text/html": [
       "<h2>Example 3: Writing Task</h2>"
      ],
      "text/plain": [
       "<IPython.core.display.HTML object>"
      ]
     },
     "metadata": {},
     "output_type": "display_data"
    },
    {
     "name": "stdout",
     "output_type": "stream",
     "text": [
      "🎯 GOAL: \"Write a short introduction for my portfolio\"\n",
      "--------------------------------------------------------------------------------\n",
      "STEP 1: Setting Goal\n",
      "  Goal set: Write a short introduction for my portfolio\n",
      "\n",
      "STEP 2: Creating Plan\n",
      "  Plan created:\n",
      "1. Outline the main points\n",
      "2. Develop the content structure\n",
      "3. Write the complete text\n",
      "\n",
      "STEP 3: Executing Plan\n",
      "  Step 1: Executed: Outline the main points - Initial information gathered\n",
      "Next step: Develop the content structure\n",
      "\n",
      "  Step 2: Executed: Develop the content structure - Information processed and structured\n",
      "Next step: Write the complete text\n",
      "\n",
      "  Step 3: Executed: Write the complete text - Final output prepared\n",
      "All steps completed!\n",
      "\n",
      "STEP 4: Final Status\n",
      "  Goal: Write a short introduction for my portfolio\n",
      "Status: Completed all 3 steps.\n",
      "\n",
      "📊 EXECUTION SUMMARY:\n"
     ]
    },
    {
     "data": {
      "text/html": [
       "<div>\n",
       "<style scoped>\n",
       "    .dataframe tbody tr th:only-of-type {\n",
       "        vertical-align: middle;\n",
       "    }\n",
       "\n",
       "    .dataframe tbody tr th {\n",
       "        vertical-align: top;\n",
       "    }\n",
       "\n",
       "    .dataframe thead th {\n",
       "        text-align: right;\n",
       "    }\n",
       "</style>\n",
       "<table border=\"1\" class=\"dataframe\">\n",
       "  <thead>\n",
       "    <tr style=\"text-align: right;\">\n",
       "      <th></th>\n",
       "      <th>Step</th>\n",
       "      <th>Plan</th>\n",
       "      <th>Result</th>\n",
       "    </tr>\n",
       "  </thead>\n",
       "  <tbody>\n",
       "    <tr>\n",
       "      <th>0</th>\n",
       "      <td>1</td>\n",
       "      <td>Outline the main points</td>\n",
       "      <td>Executed: Outline the main points - Initial in...</td>\n",
       "    </tr>\n",
       "    <tr>\n",
       "      <th>1</th>\n",
       "      <td>2</td>\n",
       "      <td>Develop the content structure</td>\n",
       "      <td>Executed: Develop the content structure - Info...</td>\n",
       "    </tr>\n",
       "    <tr>\n",
       "      <th>2</th>\n",
       "      <td>3</td>\n",
       "      <td>Write the complete text</td>\n",
       "      <td>Executed: Write the complete text - Final outp...</td>\n",
       "    </tr>\n",
       "  </tbody>\n",
       "</table>\n",
       "</div>"
      ],
      "text/plain": [
       "   Step                           Plan  \\\n",
       "0     1        Outline the main points   \n",
       "1     2  Develop the content structure   \n",
       "2     3        Write the complete text   \n",
       "\n",
       "                                              Result  \n",
       "0  Executed: Outline the main points - Initial in...  \n",
       "1  Executed: Develop the content structure - Info...  \n",
       "2  Executed: Write the complete text - Final outp...  "
      ]
     },
     "metadata": {},
     "output_type": "display_data"
    },
    {
     "name": "stdout",
     "output_type": "stream",
     "text": [
      "--------------------------------------------------------------------------------\n",
      "\n"
     ]
    },
    {
     "data": {
      "text/html": [
       "<h2>Example 4: Custom Goal</h2>"
      ],
      "text/plain": [
       "<IPython.core.display.HTML object>"
      ]
     },
     "metadata": {},
     "output_type": "display_data"
    },
    {
     "data": {
      "text/html": [
       "<p></p>"
      ],
      "text/plain": [
       "<IPython.core.display.HTML object>"
      ]
     },
     "metadata": {},
     "output_type": "display_data"
    },
    {
     "name": "stdout",
     "output_type": "stream",
     "text": [
      "🎯 GOAL: \"Prepare talking points for my upcoming presentation\"\n",
      "--------------------------------------------------------------------------------\n",
      "STEP 1: Setting Goal\n",
      "  Goal set: Prepare talking points for my upcoming presentation\n",
      "\n",
      "STEP 2: Creating Plan\n",
      "  Plan created:\n",
      "1. Understand the request\n",
      "2. Process available information\n",
      "3. Generate appropriate response\n",
      "\n",
      "STEP 3: Executing Plan\n",
      "  Step 1: Executed: Understand the request - Initial information gathered\n",
      "Next step: Process available information\n",
      "\n",
      "  Step 2: Executed: Process available information - Information processed and structured\n",
      "Next step: Generate appropriate response\n",
      "\n",
      "  Step 3: Executed: Generate appropriate response - Final output prepared\n",
      "All steps completed!\n",
      "\n",
      "STEP 4: Final Status\n",
      "  Goal: Prepare talking points for my upcoming presentation\n",
      "Status: Completed all 3 steps.\n",
      "\n",
      "📊 EXECUTION SUMMARY:\n"
     ]
    },
    {
     "data": {
      "text/html": [
       "<div>\n",
       "<style scoped>\n",
       "    .dataframe tbody tr th:only-of-type {\n",
       "        vertical-align: middle;\n",
       "    }\n",
       "\n",
       "    .dataframe tbody tr th {\n",
       "        vertical-align: top;\n",
       "    }\n",
       "\n",
       "    .dataframe thead th {\n",
       "        text-align: right;\n",
       "    }\n",
       "</style>\n",
       "<table border=\"1\" class=\"dataframe\">\n",
       "  <thead>\n",
       "    <tr style=\"text-align: right;\">\n",
       "      <th></th>\n",
       "      <th>Step</th>\n",
       "      <th>Plan</th>\n",
       "      <th>Result</th>\n",
       "    </tr>\n",
       "  </thead>\n",
       "  <tbody>\n",
       "    <tr>\n",
       "      <th>0</th>\n",
       "      <td>1</td>\n",
       "      <td>Understand the request</td>\n",
       "      <td>Executed: Understand the request - Initial inf...</td>\n",
       "    </tr>\n",
       "    <tr>\n",
       "      <th>1</th>\n",
       "      <td>2</td>\n",
       "      <td>Process available information</td>\n",
       "      <td>Executed: Process available information - Info...</td>\n",
       "    </tr>\n",
       "    <tr>\n",
       "      <th>2</th>\n",
       "      <td>3</td>\n",
       "      <td>Generate appropriate response</td>\n",
       "      <td>Executed: Generate appropriate response - Fina...</td>\n",
       "    </tr>\n",
       "  </tbody>\n",
       "</table>\n",
       "</div>"
      ],
      "text/plain": [
       "   Step                           Plan  \\\n",
       "0     1         Understand the request   \n",
       "1     2  Process available information   \n",
       "2     3  Generate appropriate response   \n",
       "\n",
       "                                              Result  \n",
       "0  Executed: Understand the request - Initial inf...  \n",
       "1  Executed: Process available information - Info...  \n",
       "2  Executed: Generate appropriate response - Fina...  "
      ]
     },
     "metadata": {},
     "output_type": "display_data"
    },
    {
     "name": "stdout",
     "output_type": "stream",
     "text": [
      "--------------------------------------------------------------------------------\n",
      "\n"
     ]
    }
   ],
   "source": [
    "# Clear, visual demonstration of the agent with different goal types\n",
    "import pandas as pd\n",
    "from IPython.display import display, HTML, Markdown\n",
    "\n",
    "def demonstrate_agent(goal):\n",
    "    \"\"\"Run a complete agent cycle with a given goal and display results visually\"\"\"\n",
    "    print(f\"🎯 GOAL: \\\"{goal}\\\"\")\n",
    "    print(\"-\" * 80)\n",
    "    \n",
    "    # Create a new agent\n",
    "    agent = SimpleAgent()\n",
    "    \n",
    "    # Step 1: Set Goal\n",
    "    print(\"STEP 1: Setting Goal\")\n",
    "    result = agent.set_goal(goal)\n",
    "    print(f\"  {result}\")\n",
    "    print()\n",
    "    \n",
    "    # Step 2: Create Plan\n",
    "    print(\"STEP 2: Creating Plan\")\n",
    "    plan_result = agent.create_plan()\n",
    "    print(f\"  {plan_result}\")\n",
    "    print()\n",
    "    \n",
    "    # Step 3: Execute Steps\n",
    "    print(\"STEP 3: Executing Plan\")\n",
    "    step_results = []\n",
    "    \n",
    "    # Execute all steps\n",
    "    for i in range(len(agent.plan)):\n",
    "        step_result = agent.execute_step()\n",
    "        step_results.append(step_result)\n",
    "        print(f\"  Step {i+1}: {step_result}\")\n",
    "        print()\n",
    "    \n",
    "    # Step 4: Final Status\n",
    "    print(\"STEP 4: Final Status\")\n",
    "    status = agent.get_status()\n",
    "    print(f\"  {status}\")\n",
    "    print()\n",
    "    \n",
    "    # Create a summary table\n",
    "    print(\"📊 EXECUTION SUMMARY:\")\n",
    "    summary_data = []\n",
    "    for i, (plan_step, result) in enumerate(zip(agent.plan, step_results)):\n",
    "        summary_data.append({\n",
    "            \"Step\": i+1,\n",
    "            \"Plan\": plan_step,\n",
    "            \"Result\": result.split('\\n')[0]  # Just take the first line of the result\n",
    "        })\n",
    "    \n",
    "    # Display as a formatted table\n",
    "    summary_df = pd.DataFrame(summary_data)\n",
    "    display(summary_df)\n",
    "    \n",
    "    print(\"-\" * 80)\n",
    "    print()\n",
    "\n",
    "# Display a title\n",
    "display(HTML(\"<h1>Simple Agentic AI Demonstration</h1>\"))\n",
    "display(HTML(\"<p>This notebook demonstrates a lightweight agentic AI that can handle different types of goals.</p>\"))\n",
    "\n",
    "# Run demonstrations with different goal types\n",
    "display(HTML(\"<h2>Example 1: Research Task</h2>\"))\n",
    "demonstrate_agent(\"Research the latest trends in artificial intelligence\")\n",
    "\n",
    "display(HTML(\"<h2>Example 2: Scheduling Task</h2>\"))\n",
    "demonstrate_agent(\"Help me organize my project tasks for the week\")\n",
    "\n",
    "display(HTML(\"<h2>Example 3: Writing Task</h2>\"))\n",
    "demonstrate_agent(\"Write a short introduction for my portfolio\")\n",
    "\n",
    "# Add a custom goal demonstration for the interview\n",
    "display(HTML(\"<h2>Example 4: Custom Goal</h2>\"))\n",
    "display(HTML(\"<p></p>\"))\n",
    "demonstrate_agent(\"Prepare talking points for my upcoming presentation\")"
   ]
  },
  {
   "cell_type": "markdown",
   "id": "920efac0-bc0b-4d49-906b-0a883c9dd1af",
   "metadata": {},
   "source": [
    "## Agent Analysis\n",
    "\n",
    "This simple agentic AI demonstrates several key concepts:\n",
    "\n",
    "1. **Goal-oriented behavior**: The agent works toward achieving a specific goal\n",
    "2. **Context-aware planning**: Different plans are created based on the type of goal\n",
    "3. **Sequential execution**: Steps are executed in order with appropriate outputs\n",
    "4. **State management**: The agent tracks its progress and completion status\n",
    "\n",
    "### Limitations\n",
    "\n",
    "This implementation has several limitations:\n",
    "- No true reasoning capabilities (uses simple keyword matching)\n",
    "- Cannot adapt plans once created\n",
    "- No memory of past interactions beyond the current goal\n",
    "- No actual execution of tasks (just simulated responses)\n",
    "\n",
    "### Potential Enhancements\n",
    "\n",
    "In a more sophisticated implementation, we could add:\n",
    "- Integration with external APIs for real information retrieval\n",
    "- Dynamic replanning based on execution results\n",
    "- Learning from past interactions to improve future plans\n",
    "- Natural language understanding for better goal interpretation\n",
    "- Actual task execution capabilities (e.g., sending emails, creating documents)"
   ]
  },
  {
   "cell_type": "markdown",
   "id": "a3ded8b2-f36e-4933-a3e6-3abf717107a8",
   "metadata": {},
   "source": [
    "## Conclusion\n",
    "\n",
    "This notebook demonstrates a minimal but functional agentic AI system that follows the core principles of goal-setting, planning, and execution. While simplified, it illustrates the fundamental architecture that more advanced agentic systems build upon.\n",
    "\n",
    "The implementation is intentionally lightweight to focus on the conceptual framework rather than specific technologies. In a production environment, this could be expanded with:\n",
    "\n",
    "- Large language models for better understanding and generation\n",
    "- Knowledge bases for improved reasoning\n",
    "- Tool integration for real-world actions\n",
    "- Feedback mechanisms for learning and improvement\n",
    "\n",
    "This project serves as a starting point for understanding how agentic AI systems operate and can be extended in numerous directions based on specific application needs."
   ]
  }
 ],
 "metadata": {
  "kernelspec": {
   "display_name": "Python 3 (ipykernel)",
   "language": "python",
   "name": "python3"
  },
  "language_info": {
   "codemirror_mode": {
    "name": "ipython",
    "version": 3
   },
   "file_extension": ".py",
   "mimetype": "text/x-python",
   "name": "python",
   "nbconvert_exporter": "python",
   "pygments_lexer": "ipython3",
   "version": "3.13.2"
  }
 },
 "nbformat": 4,
 "nbformat_minor": 5
}
